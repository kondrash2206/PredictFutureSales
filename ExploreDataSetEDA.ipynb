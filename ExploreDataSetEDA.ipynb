{
 "cells": [
  {
   "cell_type": "code",
   "execution_count": 1,
   "metadata": {},
   "outputs": [],
   "source": [
    "import numpy as np\n",
    "import pandas as pd \n",
    "import os\n",
    "from string import punctuation\n",
    "from sklearn.preprocessing import LabelEncoder\n",
    "import matplotlib.pyplot as plt"
   ]
  },
  {
   "cell_type": "code",
   "execution_count": 2,
   "metadata": {},
   "outputs": [],
   "source": [
    "# let's correct the shops df and also generate a few more features\n",
    "def fix_shops(shops):\n",
    "    '''\n",
    "    This function modifies the shops df inplace.\n",
    "    It correct's 3 shops that we have found to be 'duplicates'\n",
    "    and also creates a few more features: extracts the city and encodes it using LabelEncoder\n",
    "    '''\n",
    "    \n",
    "    d = {0:57, 1:58, 10:11, 23:24}\n",
    "    \n",
    "    # this 'tricks' allows you to map a series to a dictionary, but all values that are not in the dictionary won't be affected\n",
    "    # it's handy since if we blindly map the values, the missings values will be replaced with nan\n",
    "    shops[\"shop_id\"] = shops[\"shop_id\"].apply(lambda x: d[x] if x in d.keys() else x)\n",
    "    \n",
    "    # replace all the punctuation in the shop_name columns\n",
    "    shops[\"shop_name_cleaned\"] = shops[\"shop_name\"].apply(lambda s: \"\".join([x for x in s if x not in punctuation]))\n",
    "    \n",
    "    # extract the city name\n",
    "    shops[\"city\"] = shops[\"shop_name_cleaned\"].apply(lambda s: s.split()[0])\n",
    "    \n",
    "    # encode it using a simple LabelEncoder\n",
    "    shops[\"city_id\"] = LabelEncoder().fit_transform(shops['city'])"
   ]
  },
  {
   "cell_type": "code",
   "execution_count": 3,
   "metadata": {},
   "outputs": [],
   "source": [
    "# a simple function that creates a global df with all joins and also shops corrections\n",
    "def create_df():\n",
    "    '''\n",
    "    This is a helper function that creates the train df.\n",
    "    '''\n",
    "    # import all df\n",
    "    shops = pd.read_csv(\"competitive-data-science-predict-future-sales/shops.csv\")\n",
    "    fix_shops(shops) # fix the shops as we have seen before\n",
    "    \n",
    "    items_category = pd.read_csv(\"competitive-data-science-predict-future-sales/item_categories.csv\")\n",
    "    items = pd.read_csv(\"competitive-data-science-predict-future-sales/items.csv\")\n",
    "    sales = pd.read_csv(\"competitive-data-science-predict-future-sales/sales_train.csv\")\n",
    "    \n",
    "    # fix shop_id in sales so that we can leater merge the df\n",
    "    d = {0:57, 1:58, 10:11, 23:24}\n",
    "    sales[\"shop_id\"] = sales[\"shop_id\"].apply(lambda x: d[x] if x in d.keys() else x)\n",
    "    \n",
    "    # create df by merging the previous dataframes\n",
    "    df = pd.merge(items, items_category, left_on = \"item_category_id\", right_on = \"item_category_id\")\n",
    "    df = pd.merge(sales, df, left_on = \"item_id\", right_on = \"item_id\")\n",
    "    df = pd.merge(df, shops, left_on = \"shop_id\", right_on = \"shop_id\")\n",
    "    \n",
    "    # convert to datetime and sort the values\n",
    "#     df[\"date\"] = pd.to_datetime(df[\"date\"], format = \"%d.%m.%Y\")\n",
    "    df.sort_values(by = [\"shop_id\", \"date\"], ascending = True, inplace = True)\n",
    "    \n",
    "    return df"
   ]
  },
  {
   "cell_type": "code",
   "execution_count": 4,
   "metadata": {},
   "outputs": [],
   "source": [
    "df = create_df()"
   ]
  },
  {
   "cell_type": "code",
   "execution_count": 9,
   "metadata": {},
   "outputs": [
    {
     "data": {
      "text/plain": [
       "3045906    0\n",
       "3046804    0\n",
       "3047235    0\n",
       "3047928    0\n",
       "3048822    0\n",
       "3049049    0\n",
       "3049130    0\n",
       "3049889    0\n",
       "3050861    0\n",
       "3051181    0\n",
       "3051327    0\n",
       "3051395    0\n",
       "3052297    0\n",
       "3052835    0\n",
       "3052898    0\n",
       "dtype: int64"
      ]
     },
     "execution_count": 9,
     "metadata": {},
     "output_type": "execute_result"
    }
   ],
   "source": [
    "# Number of NaNs for each object\n",
    "df.isnull().sum(axis=1).head(15)"
   ]
  },
  {
   "cell_type": "code",
   "execution_count": 10,
   "metadata": {},
   "outputs": [
    {
     "data": {
      "text/plain": [
       "date                  0\n",
       "date_block_num        0\n",
       "shop_id               0\n",
       "item_id               0\n",
       "item_price            0\n",
       "item_cnt_day          0\n",
       "item_name             0\n",
       "item_category_id      0\n",
       "item_category_name    0\n",
       "shop_name             0\n",
       "shop_name_cleaned     0\n",
       "city                  0\n",
       "city_id               0\n",
       "dtype: int64"
      ]
     },
     "execution_count": 10,
     "metadata": {},
     "output_type": "execute_result"
    }
   ],
   "source": [
    "# Number of NaNs for each column\n",
    "df.isnull().sum(axis=0).head(25)"
   ]
  },
  {
   "cell_type": "code",
   "execution_count": 11,
   "metadata": {},
   "outputs": [
    {
     "data": {
      "text/html": [
       "<div>\n",
       "<style scoped>\n",
       "    .dataframe tbody tr th:only-of-type {\n",
       "        vertical-align: middle;\n",
       "    }\n",
       "\n",
       "    .dataframe tbody tr th {\n",
       "        vertical-align: top;\n",
       "    }\n",
       "\n",
       "    .dataframe thead th {\n",
       "        text-align: right;\n",
       "    }\n",
       "</style>\n",
       "<table border=\"1\" class=\"dataframe\">\n",
       "  <thead>\n",
       "    <tr style=\"text-align: right;\">\n",
       "      <th></th>\n",
       "      <th>date</th>\n",
       "      <th>date_block_num</th>\n",
       "      <th>shop_id</th>\n",
       "      <th>item_id</th>\n",
       "      <th>item_price</th>\n",
       "      <th>item_cnt_day</th>\n",
       "      <th>item_name</th>\n",
       "      <th>item_category_id</th>\n",
       "      <th>item_category_name</th>\n",
       "      <th>shop_name</th>\n",
       "      <th>shop_name_cleaned</th>\n",
       "      <th>city</th>\n",
       "      <th>city_id</th>\n",
       "    </tr>\n",
       "  </thead>\n",
       "  <tbody>\n",
       "    <tr>\n",
       "      <th>3045906</th>\n",
       "      <td>01.01.2013</td>\n",
       "      <td>0</td>\n",
       "      <td>2</td>\n",
       "      <td>2920</td>\n",
       "      <td>599.0</td>\n",
       "      <td>2.0</td>\n",
       "      <td>Disney. LEGO Пираты Карибского моря (Essential...</td>\n",
       "      <td>21</td>\n",
       "      <td>Игры - PSP</td>\n",
       "      <td>Адыгея ТЦ \"Мега\"</td>\n",
       "      <td>Адыгея ТЦ Мега</td>\n",
       "      <td>Адыгея</td>\n",
       "      <td>0</td>\n",
       "    </tr>\n",
       "    <tr>\n",
       "      <th>3046804</th>\n",
       "      <td>01.01.2013</td>\n",
       "      <td>0</td>\n",
       "      <td>2</td>\n",
       "      <td>1472</td>\n",
       "      <td>2599.0</td>\n",
       "      <td>1.0</td>\n",
       "      <td>Assassin's Creed 3 [Xbox 360, русская версия]</td>\n",
       "      <td>23</td>\n",
       "      <td>Игры - XBOX 360</td>\n",
       "      <td>Адыгея ТЦ \"Мега\"</td>\n",
       "      <td>Адыгея ТЦ Мега</td>\n",
       "      <td>Адыгея</td>\n",
       "      <td>0</td>\n",
       "    </tr>\n",
       "    <tr>\n",
       "      <th>3047235</th>\n",
       "      <td>01.01.2013</td>\n",
       "      <td>0</td>\n",
       "      <td>2</td>\n",
       "      <td>1905</td>\n",
       "      <td>249.0</td>\n",
       "      <td>1.0</td>\n",
       "      <td>Bestseller. Grand Theft Auto: San Andreas [PC,...</td>\n",
       "      <td>30</td>\n",
       "      <td>Игры PC - Стандартные издания</td>\n",
       "      <td>Адыгея ТЦ \"Мега\"</td>\n",
       "      <td>Адыгея ТЦ Мега</td>\n",
       "      <td>Адыгея</td>\n",
       "      <td>0</td>\n",
       "    </tr>\n",
       "    <tr>\n",
       "      <th>3047928</th>\n",
       "      <td>01.01.2013</td>\n",
       "      <td>0</td>\n",
       "      <td>2</td>\n",
       "      <td>5649</td>\n",
       "      <td>2190.0</td>\n",
       "      <td>1.0</td>\n",
       "      <td>PS3: Файтстик Hori Mini 3</td>\n",
       "      <td>2</td>\n",
       "      <td>Аксессуары - PS3</td>\n",
       "      <td>Адыгея ТЦ \"Мега\"</td>\n",
       "      <td>Адыгея ТЦ Мега</td>\n",
       "      <td>Адыгея</td>\n",
       "      <td>0</td>\n",
       "    </tr>\n",
       "    <tr>\n",
       "      <th>3048822</th>\n",
       "      <td>01.01.2013</td>\n",
       "      <td>0</td>\n",
       "      <td>2</td>\n",
       "      <td>3320</td>\n",
       "      <td>1999.0</td>\n",
       "      <td>1.0</td>\n",
       "      <td>FIFA 13 (с поддержкой PS Move) [PS3, русская в...</td>\n",
       "      <td>19</td>\n",
       "      <td>Игры - PS3</td>\n",
       "      <td>Адыгея ТЦ \"Мега\"</td>\n",
       "      <td>Адыгея ТЦ Мега</td>\n",
       "      <td>Адыгея</td>\n",
       "      <td>0</td>\n",
       "    </tr>\n",
       "  </tbody>\n",
       "</table>\n",
       "</div>"
      ],
      "text/plain": [
       "               date  date_block_num  shop_id  item_id  item_price  \\\n",
       "3045906  01.01.2013               0        2     2920       599.0   \n",
       "3046804  01.01.2013               0        2     1472      2599.0   \n",
       "3047235  01.01.2013               0        2     1905       249.0   \n",
       "3047928  01.01.2013               0        2     5649      2190.0   \n",
       "3048822  01.01.2013               0        2     3320      1999.0   \n",
       "\n",
       "         item_cnt_day                                          item_name  \\\n",
       "3045906           2.0  Disney. LEGO Пираты Карибского моря (Essential...   \n",
       "3046804           1.0      Assassin's Creed 3 [Xbox 360, русская версия]   \n",
       "3047235           1.0  Bestseller. Grand Theft Auto: San Andreas [PC,...   \n",
       "3047928           1.0                          PS3: Файтстик Hori Mini 3   \n",
       "3048822           1.0  FIFA 13 (с поддержкой PS Move) [PS3, русская в...   \n",
       "\n",
       "         item_category_id             item_category_name         shop_name  \\\n",
       "3045906                21                     Игры - PSP  Адыгея ТЦ \"Мега\"   \n",
       "3046804                23                Игры - XBOX 360  Адыгея ТЦ \"Мега\"   \n",
       "3047235                30  Игры PC - Стандартные издания  Адыгея ТЦ \"Мега\"   \n",
       "3047928                 2               Аксессуары - PS3  Адыгея ТЦ \"Мега\"   \n",
       "3048822                19                     Игры - PS3  Адыгея ТЦ \"Мега\"   \n",
       "\n",
       "        shop_name_cleaned    city  city_id  \n",
       "3045906    Адыгея ТЦ Мега  Адыгея        0  \n",
       "3046804    Адыгея ТЦ Мега  Адыгея        0  \n",
       "3047235    Адыгея ТЦ Мега  Адыгея        0  \n",
       "3047928    Адыгея ТЦ Мега  Адыгея        0  \n",
       "3048822    Адыгея ТЦ Мега  Адыгея        0  "
      ]
     },
     "execution_count": 11,
     "metadata": {},
     "output_type": "execute_result"
    }
   ],
   "source": [
    "df.head()"
   ]
  },
  {
   "cell_type": "code",
   "execution_count": 12,
   "metadata": {},
   "outputs": [],
   "source": [
    "feats_counts = df.nunique(dropna = False)"
   ]
  },
  {
   "cell_type": "code",
   "execution_count": 13,
   "metadata": {},
   "outputs": [
    {
     "data": {
      "text/plain": [
       "city                    31\n",
       "city_id                 31\n",
       "date_block_num          34\n",
       "shop_id                 56\n",
       "shop_name               60\n",
       "shop_name_cleaned       60\n",
       "item_category_id        84\n",
       "item_category_name      84\n",
       "item_cnt_day           198\n",
       "date                  1034\n",
       "dtype: int64"
      ]
     },
     "execution_count": 13,
     "metadata": {},
     "output_type": "execute_result"
    }
   ],
   "source": [
    "feats_counts.sort_values()[:10]"
   ]
  },
  {
   "cell_type": "code",
   "execution_count": 14,
   "metadata": {},
   "outputs": [
    {
     "data": {
      "image/png": "[encoded data removed]",
      "text/plain": [
       "<Figure size 1008x432 with 1 Axes>"
      ]
     },
     "metadata": {
      "needs_background": "light"
     },
     "output_type": "display_data"
    }
   ],
   "source": [
    "plt.figure(figsize=(14,6))\n",
    "_ = plt.hist(feats_counts.astype(float)/df.shape[0], bins=20)"
   ]
  },
  {
   "cell_type": "code",
   "execution_count": 17,
   "metadata": {},
   "outputs": [
    {
     "data": {
      "text/html": [
       "<div>\n",
       "<style scoped>\n",
       "    .dataframe tbody tr th:only-of-type {\n",
       "        vertical-align: middle;\n",
       "    }\n",
       "\n",
       "    .dataframe tbody tr th {\n",
       "        vertical-align: top;\n",
       "    }\n",
       "\n",
       "    .dataframe thead th {\n",
       "        text-align: right;\n",
       "    }\n",
       "</style>\n",
       "<table border=\"1\" class=\"dataframe\">\n",
       "  <thead>\n",
       "    <tr style=\"text-align: right;\">\n",
       "      <th></th>\n",
       "      <th>item_id</th>\n",
       "      <th>item_price</th>\n",
       "      <th>item_name</th>\n",
       "    </tr>\n",
       "  </thead>\n",
       "  <tbody>\n",
       "    <tr>\n",
       "      <th>3045906</th>\n",
       "      <td>2920</td>\n",
       "      <td>599.0</td>\n",
       "      <td>Disney. LEGO Пираты Карибского моря (Essential...</td>\n",
       "    </tr>\n",
       "    <tr>\n",
       "      <th>3046804</th>\n",
       "      <td>1472</td>\n",
       "      <td>2599.0</td>\n",
       "      <td>Assassin's Creed 3 [Xbox 360, русская версия]</td>\n",
       "    </tr>\n",
       "    <tr>\n",
       "      <th>3047235</th>\n",
       "      <td>1905</td>\n",
       "      <td>249.0</td>\n",
       "      <td>Bestseller. Grand Theft Auto: San Andreas [PC,...</td>\n",
       "    </tr>\n",
       "    <tr>\n",
       "      <th>3047928</th>\n",
       "      <td>5649</td>\n",
       "      <td>2190.0</td>\n",
       "      <td>PS3: Файтстик Hori Mini 3</td>\n",
       "    </tr>\n",
       "    <tr>\n",
       "      <th>3048822</th>\n",
       "      <td>3320</td>\n",
       "      <td>1999.0</td>\n",
       "      <td>FIFA 13 (с поддержкой PS Move) [PS3, русская в...</td>\n",
       "    </tr>\n",
       "    <tr>\n",
       "      <th>...</th>\n",
       "      <td>...</td>\n",
       "      <td>...</td>\n",
       "      <td>...</td>\n",
       "    </tr>\n",
       "    <tr>\n",
       "      <th>39137</th>\n",
       "      <td>15784</td>\n",
       "      <td>299.0</td>\n",
       "      <td>НОЙ</td>\n",
       "    </tr>\n",
       "    <tr>\n",
       "      <th>39178</th>\n",
       "      <td>16078</td>\n",
       "      <td>999.0</td>\n",
       "      <td>Настольная игра Гластонбери</td>\n",
       "    </tr>\n",
       "    <tr>\n",
       "      <th>39188</th>\n",
       "      <td>10382</td>\n",
       "      <td>699.0</td>\n",
       "      <td>ГЕРАКЛ (BD)</td>\n",
       "    </tr>\n",
       "    <tr>\n",
       "      <th>39210</th>\n",
       "      <td>10842</td>\n",
       "      <td>399.0</td>\n",
       "      <td>ДЕЛЬФИН  Андрей (фирм.)</td>\n",
       "    </tr>\n",
       "    <tr>\n",
       "      <th>39401</th>\n",
       "      <td>2429</td>\n",
       "      <td>1299.0</td>\n",
       "      <td>Crew. Специальное издание [PC, русская версия]</td>\n",
       "    </tr>\n",
       "  </tbody>\n",
       "</table>\n",
       "<p>3222144 rows × 3 columns</p>\n",
       "</div>"
      ],
      "text/plain": [
       "         item_id  item_price  \\\n",
       "3045906     2920       599.0   \n",
       "3046804     1472      2599.0   \n",
       "3047235     1905       249.0   \n",
       "3047928     5649      2190.0   \n",
       "3048822     3320      1999.0   \n",
       "...          ...         ...   \n",
       "39137      15784       299.0   \n",
       "39178      16078       999.0   \n",
       "39188      10382       699.0   \n",
       "39210      10842       399.0   \n",
       "39401       2429      1299.0   \n",
       "\n",
       "                                                 item_name  \n",
       "3045906  Disney. LEGO Пираты Карибского моря (Essential...  \n",
       "3046804      Assassin's Creed 3 [Xbox 360, русская версия]  \n",
       "3047235  Bestseller. Grand Theft Auto: San Andreas [PC,...  \n",
       "3047928                          PS3: Файтстик Hori Mini 3  \n",
       "3048822  FIFA 13 (с поддержкой PS Move) [PS3, русская в...  \n",
       "...                                                    ...  \n",
       "39137                                                  НОЙ  \n",
       "39178                          Настольная игра Гластонбери  \n",
       "39188                                          ГЕРАКЛ (BD)  \n",
       "39210                              ДЕЛЬФИН  Андрей (фирм.)  \n",
       "39401       Crew. Специальное издание [PC, русская версия]  \n",
       "\n",
       "[3222144 rows x 3 columns]"
      ]
     },
     "execution_count": 17,
     "metadata": {},
     "output_type": "execute_result"
    }
   ],
   "source": [
    "mask = (feats_counts.astype(float)/df.shape[0] > 0.006)\n",
    "df.loc[:, mask]"
   ]
  },
  {
   "cell_type": "code",
   "execution_count": 18,
   "metadata": {},
   "outputs": [
    {
     "data": {
      "text/plain": [
       "date                   object\n",
       "date_block_num          int64\n",
       "shop_id                 int64\n",
       "item_id                 int64\n",
       "item_price            float64\n",
       "item_cnt_day          float64\n",
       "item_name              object\n",
       "item_category_id        int64\n",
       "item_category_name     object\n",
       "shop_name              object\n",
       "shop_name_cleaned      object\n",
       "city                   object\n",
       "city_id                 int64\n",
       "dtype: object"
      ]
     },
     "execution_count": 18,
     "metadata": {},
     "output_type": "execute_result"
    }
   ],
   "source": [
    "df.dtypes"
   ]
  },
  {
   "cell_type": "code",
   "execution_count": 19,
   "metadata": {},
   "outputs": [],
   "source": [
    "cat_cols = list(df.select_dtypes(include=['object']).columns)\n",
    "num_cols = list(df.select_dtypes(exclude=['object']).columns)"
   ]
  },
  {
   "cell_type": "code",
   "execution_count": 20,
   "metadata": {},
   "outputs": [
    {
     "data": {
      "text/plain": [
       "['date',\n",
       " 'item_name',\n",
       " 'item_category_name',\n",
       " 'shop_name',\n",
       " 'shop_name_cleaned',\n",
       " 'city']"
      ]
     },
     "execution_count": 20,
     "metadata": {},
     "output_type": "execute_result"
    }
   ],
   "source": [
    "cat_cols"
   ]
  },
  {
   "cell_type": "code",
   "execution_count": 22,
   "metadata": {},
   "outputs": [],
   "source": [
    "def hist_it(feat):\n",
    "    plt.figure(figsize=(16,4))\n",
    "    feat[Y==0].hist(bins=range(int(feat.min()),int(feat.max()+2)),normed=True,alpha=0.8)\n",
    "    feat[Y==1].hist(bins=range(int(feat.min()),int(feat.max()+2)),normed=True,alpha=0.5)\n",
    "    plt.ylim((0,1))"
   ]
  },
  {
   "cell_type": "code",
   "execution_count": 24,
   "metadata": {},
   "outputs": [
    {
     "data": {
      "text/plain": [
       "3045906     2\n",
       "3046804     2\n",
       "3047235     2\n",
       "3047928     2\n",
       "3048822     2\n",
       "           ..\n",
       "39137      59\n",
       "39178      59\n",
       "39188      59\n",
       "39210      59\n",
       "39401      59\n",
       "Name: shop_id, Length: 3222144, dtype: int64"
      ]
     },
     "execution_count": 24,
     "metadata": {},
     "output_type": "execute_result"
    }
   ],
   "source": []
  },
  {
   "cell_type": "code",
   "execution_count": 32,
   "metadata": {},
   "outputs": [
    {
     "data": {
      "text/plain": [
       "(array([ 51523.,  38242.,  38179.,  82663.,  58076.,   3412.,   3751.,\n",
       "             0.,  43792.,  34694.,  17824.,  36979.,  59511.,  52734.,\n",
       "         22950.,  53227.,  63911.,   1792.,  58133.,  45434.,      0.,\n",
       "        119990., 186104.,  53910., 105366., 142234.,  49225.,  50860.,\n",
       "        235636.,   7947.,   5027.,   5752.,  58445.,    306.,  39638.,\n",
       "         46013.,  13440.,   4257.,  41967., 109253.,  39282.,  39530.,\n",
       "         35891.,  66321.,  56695.,  21612.,  15849.,  65173.,  44433.,\n",
       "         43502.,  52921., 143480.,  34769.,  69573., 254570., 196346.]),\n",
       " array([ 2.        ,  3.01785714,  4.03571429,  5.05357143,  6.07142857,\n",
       "         7.08928571,  8.10714286,  9.125     , 10.14285714, 11.16071429,\n",
       "        12.17857143, 13.19642857, 14.21428571, 15.23214286, 16.25      ,\n",
       "        17.26785714, 18.28571429, 19.30357143, 20.32142857, 21.33928571,\n",
       "        22.35714286, 23.375     , 24.39285714, 25.41071429, 26.42857143,\n",
       "        27.44642857, 28.46428571, 29.48214286, 30.5       , 31.51785714,\n",
       "        32.53571429, 33.55357143, 34.57142857, 35.58928571, 36.60714286,\n",
       "        37.625     , 38.64285714, 39.66071429, 40.67857143, 41.69642857,\n",
       "        42.71428571, 43.73214286, 44.75      , 45.76785714, 46.78571429,\n",
       "        47.80357143, 48.82142857, 49.83928571, 50.85714286, 51.875     ,\n",
       "        52.89285714, 53.91071429, 54.92857143, 55.94642857, 56.96428571,\n",
       "        57.98214286, 59.        ]),\n",
       " <a list of 56 Patch objects>)"
      ]
     },
     "execution_count": 32,
     "metadata": {},
     "output_type": "execute_result"
    },
    {
     "data": {
      "image/png": "[encoded data removed]",
      "text/plain": [
       "<Figure size 1008x432 with 1 Axes>"
      ]
     },
     "metadata": {
      "needs_background": "light"
     },
     "output_type": "display_data"
    }
   ],
   "source": [
    "plt.figure(figsize=(14,6))\n",
    "plt.hist(df.shop_id, bins=56)"
   ]
  },
  {
   "cell_type": "code",
   "execution_count": 30,
   "metadata": {},
   "outputs": [
    {
     "data": {
      "text/plain": [
       "<bound method IndexOpsMixin.nunique of 3045906     2\n",
       "3046804     2\n",
       "3047235     2\n",
       "3047928     2\n",
       "3048822     2\n",
       "           ..\n",
       "39137      59\n",
       "39178      59\n",
       "39188      59\n",
       "39210      59\n",
       "39401      59\n",
       "Name: shop_id, Length: 3222144, dtype: int64>"
      ]
     },
     "execution_count": 30,
     "metadata": {},
     "output_type": "execute_result"
    }
   ],
   "source": [
    "df.shop_id.nunique"
   ]
  },
  {
   "cell_type": "code",
   "execution_count": 33,
   "metadata": {},
   "outputs": [
    {
     "data": {
      "text/plain": [
       "(array([  25991.,   25532.,   38242.,   38179.,  144151.,    3751.,\n",
       "          43792.,   34694.,   54803.,   59511.,   52734.,   76177.,\n",
       "          63911., 1056631.,    5027.,   64197.,   39944.,   46013.,\n",
       "          59664.,  148535.,   75421.,   66321.,   56695.,   21612.,\n",
       "         125455.,   96423.,  143480.,   34769.,   69573.,  408808.,\n",
       "          42108.]),\n",
       " array([ 0.        ,  0.96774194,  1.93548387,  2.90322581,  3.87096774,\n",
       "         4.83870968,  5.80645161,  6.77419355,  7.74193548,  8.70967742,\n",
       "         9.67741935, 10.64516129, 11.61290323, 12.58064516, 13.5483871 ,\n",
       "        14.51612903, 15.48387097, 16.4516129 , 17.41935484, 18.38709677,\n",
       "        19.35483871, 20.32258065, 21.29032258, 22.25806452, 23.22580645,\n",
       "        24.19354839, 25.16129032, 26.12903226, 27.09677419, 28.06451613,\n",
       "        29.03225806, 30.        ]),\n",
       " <a list of 31 Patch objects>)"
      ]
     },
     "execution_count": 33,
     "metadata": {},
     "output_type": "execute_result"
    },
    {
     "data": {
      "image/png": "[encoded data removed]",
      "text/plain": [
       "<Figure size 1008x432 with 1 Axes>"
      ]
     },
     "metadata": {
      "needs_background": "light"
     },
     "output_type": "display_data"
    }
   ],
   "source": [
    "plt.figure(figsize=(14,6))\n",
    "plt.hist(df.city_id, bins=31)"
   ]
  },
  {
   "cell_type": "code",
   "execution_count": null,
   "metadata": {},
   "outputs": [],
   "source": []
  }
 ],
 "metadata": {
  "kernelspec": {
   "display_name": "Python 3",
   "language": "python",
   "name": "python3"
  },
  "language_info": {
   "codemirror_mode": {
    "name": "ipython",
    "version": 3
   },
   "file_extension": ".py",
   "mimetype": "text/x-python",
   "name": "python",
   "nbconvert_exporter": "python",
   "pygments_lexer": "ipython3",
   "version": "3.7.6"
  }
 },
 "nbformat": 4,
 "nbformat_minor": 4
}
